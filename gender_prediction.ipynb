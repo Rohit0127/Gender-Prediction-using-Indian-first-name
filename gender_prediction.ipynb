{
  "nbformat": 4,
  "nbformat_minor": 0,
  "metadata": {
    "colab": {
      "name": "gender_prediction.ipynb",
      "provenance": [],
      "collapsed_sections": []
    },
    "kernelspec": {
      "name": "python3",
      "display_name": "Python 3"
    },
    "language_info": {
      "name": "python"
    }
  },
  "cells": [
    {
      "cell_type": "markdown",
      "source": [
        "# Importing necessary header files and dataset"
      ],
      "metadata": {
        "id": "p0Woxd1Piz5e"
      }
    },
    {
      "cell_type": "code",
      "source": [
        "import pandas as pd\n",
        "import numpy as np\n",
        "import matplotlib.pyplot as plt"
      ],
      "metadata": {
        "id": "Oc-ULnxkszEm"
      },
      "execution_count": null,
      "outputs": []
    },
    {
      "cell_type": "code",
      "source": [
        "# Importing the dataset\n",
        "female_df = pd.read_csv('Indian-Female-Names.csv')\n",
        "male_df = pd.read_csv('Indian-Male-Names.csv')"
      ],
      "metadata": {
        "id": "NmMlWAaAtMhU"
      },
      "execution_count": null,
      "outputs": []
    },
    {
      "cell_type": "code",
      "source": [
        "male_df.head()"
      ],
      "metadata": {
        "colab": {
          "base_uri": "https://localhost:8080/",
          "height": 206
        },
        "id": "NrzUlZejtRVZ",
        "outputId": "d6fa6dc4-f475-495a-ff4f-ba3c8b66b0ca"
      },
      "execution_count": null,
      "outputs": [
        {
          "output_type": "execute_result",
          "data": {
            "text/plain": [
              "              name gender    race\n",
              "0          barjraj      m  indian\n",
              "1     ramdin verma      m  indian\n",
              "2  sharat chandran      m  indian\n",
              "3  birender mandal      m  indian\n",
              "4             amit      m  indian"
            ],
            "text/html": [
              "\n",
              "  <div id=\"df-1804d6ce-23bb-46a6-8923-d52c8fdeaf08\">\n",
              "    <div class=\"colab-df-container\">\n",
              "      <div>\n",
              "<style scoped>\n",
              "    .dataframe tbody tr th:only-of-type {\n",
              "        vertical-align: middle;\n",
              "    }\n",
              "\n",
              "    .dataframe tbody tr th {\n",
              "        vertical-align: top;\n",
              "    }\n",
              "\n",
              "    .dataframe thead th {\n",
              "        text-align: right;\n",
              "    }\n",
              "</style>\n",
              "<table border=\"1\" class=\"dataframe\">\n",
              "  <thead>\n",
              "    <tr style=\"text-align: right;\">\n",
              "      <th></th>\n",
              "      <th>name</th>\n",
              "      <th>gender</th>\n",
              "      <th>race</th>\n",
              "    </tr>\n",
              "  </thead>\n",
              "  <tbody>\n",
              "    <tr>\n",
              "      <th>0</th>\n",
              "      <td>barjraj</td>\n",
              "      <td>m</td>\n",
              "      <td>indian</td>\n",
              "    </tr>\n",
              "    <tr>\n",
              "      <th>1</th>\n",
              "      <td>ramdin verma</td>\n",
              "      <td>m</td>\n",
              "      <td>indian</td>\n",
              "    </tr>\n",
              "    <tr>\n",
              "      <th>2</th>\n",
              "      <td>sharat chandran</td>\n",
              "      <td>m</td>\n",
              "      <td>indian</td>\n",
              "    </tr>\n",
              "    <tr>\n",
              "      <th>3</th>\n",
              "      <td>birender mandal</td>\n",
              "      <td>m</td>\n",
              "      <td>indian</td>\n",
              "    </tr>\n",
              "    <tr>\n",
              "      <th>4</th>\n",
              "      <td>amit</td>\n",
              "      <td>m</td>\n",
              "      <td>indian</td>\n",
              "    </tr>\n",
              "  </tbody>\n",
              "</table>\n",
              "</div>\n",
              "      <button class=\"colab-df-convert\" onclick=\"convertToInteractive('df-1804d6ce-23bb-46a6-8923-d52c8fdeaf08')\"\n",
              "              title=\"Convert this dataframe to an interactive table.\"\n",
              "              style=\"display:none;\">\n",
              "        \n",
              "  <svg xmlns=\"http://www.w3.org/2000/svg\" height=\"24px\"viewBox=\"0 0 24 24\"\n",
              "       width=\"24px\">\n",
              "    <path d=\"M0 0h24v24H0V0z\" fill=\"none\"/>\n",
              "    <path d=\"M18.56 5.44l.94 2.06.94-2.06 2.06-.94-2.06-.94-.94-2.06-.94 2.06-2.06.94zm-11 1L8.5 8.5l.94-2.06 2.06-.94-2.06-.94L8.5 2.5l-.94 2.06-2.06.94zm10 10l.94 2.06.94-2.06 2.06-.94-2.06-.94-.94-2.06-.94 2.06-2.06.94z\"/><path d=\"M17.41 7.96l-1.37-1.37c-.4-.4-.92-.59-1.43-.59-.52 0-1.04.2-1.43.59L10.3 9.45l-7.72 7.72c-.78.78-.78 2.05 0 2.83L4 21.41c.39.39.9.59 1.41.59.51 0 1.02-.2 1.41-.59l7.78-7.78 2.81-2.81c.8-.78.8-2.07 0-2.86zM5.41 20L4 18.59l7.72-7.72 1.47 1.35L5.41 20z\"/>\n",
              "  </svg>\n",
              "      </button>\n",
              "      \n",
              "  <style>\n",
              "    .colab-df-container {\n",
              "      display:flex;\n",
              "      flex-wrap:wrap;\n",
              "      gap: 12px;\n",
              "    }\n",
              "\n",
              "    .colab-df-convert {\n",
              "      background-color: #E8F0FE;\n",
              "      border: none;\n",
              "      border-radius: 50%;\n",
              "      cursor: pointer;\n",
              "      display: none;\n",
              "      fill: #1967D2;\n",
              "      height: 32px;\n",
              "      padding: 0 0 0 0;\n",
              "      width: 32px;\n",
              "    }\n",
              "\n",
              "    .colab-df-convert:hover {\n",
              "      background-color: #E2EBFA;\n",
              "      box-shadow: 0px 1px 2px rgba(60, 64, 67, 0.3), 0px 1px 3px 1px rgba(60, 64, 67, 0.15);\n",
              "      fill: #174EA6;\n",
              "    }\n",
              "\n",
              "    [theme=dark] .colab-df-convert {\n",
              "      background-color: #3B4455;\n",
              "      fill: #D2E3FC;\n",
              "    }\n",
              "\n",
              "    [theme=dark] .colab-df-convert:hover {\n",
              "      background-color: #434B5C;\n",
              "      box-shadow: 0px 1px 3px 1px rgba(0, 0, 0, 0.15);\n",
              "      filter: drop-shadow(0px 1px 2px rgba(0, 0, 0, 0.3));\n",
              "      fill: #FFFFFF;\n",
              "    }\n",
              "  </style>\n",
              "\n",
              "      <script>\n",
              "        const buttonEl =\n",
              "          document.querySelector('#df-1804d6ce-23bb-46a6-8923-d52c8fdeaf08 button.colab-df-convert');\n",
              "        buttonEl.style.display =\n",
              "          google.colab.kernel.accessAllowed ? 'block' : 'none';\n",
              "\n",
              "        async function convertToInteractive(key) {\n",
              "          const element = document.querySelector('#df-1804d6ce-23bb-46a6-8923-d52c8fdeaf08');\n",
              "          const dataTable =\n",
              "            await google.colab.kernel.invokeFunction('convertToInteractive',\n",
              "                                                     [key], {});\n",
              "          if (!dataTable) return;\n",
              "\n",
              "          const docLinkHtml = 'Like what you see? Visit the ' +\n",
              "            '<a target=\"_blank\" href=https://colab.research.google.com/notebooks/data_table.ipynb>data table notebook</a>'\n",
              "            + ' to learn more about interactive tables.';\n",
              "          element.innerHTML = '';\n",
              "          dataTable['output_type'] = 'display_data';\n",
              "          await google.colab.output.renderOutput(dataTable, element);\n",
              "          const docLink = document.createElement('div');\n",
              "          docLink.innerHTML = docLinkHtml;\n",
              "          element.appendChild(docLink);\n",
              "        }\n",
              "      </script>\n",
              "    </div>\n",
              "  </div>\n",
              "  "
            ]
          },
          "metadata": {},
          "execution_count": 3
        }
      ]
    },
    {
      "cell_type": "code",
      "source": [
        "female_df.head()"
      ],
      "metadata": {
        "colab": {
          "base_uri": "https://localhost:8080/",
          "height": 206
        },
        "id": "1gfkQ3m88arY",
        "outputId": "9e96d3d1-b619-4a9f-a784-49f3e02938ca"
      },
      "execution_count": null,
      "outputs": [
        {
          "output_type": "execute_result",
          "data": {
            "text/plain": [
              "              name gender    race\n",
              "0          shivani      f  indian\n",
              "1             isha      f  indian\n",
              "2  smt shyani devi      f  indian\n",
              "3            divya      f  indian\n",
              "4            mansi      f  indian"
            ],
            "text/html": [
              "\n",
              "  <div id=\"df-b6d64392-e6f7-47cd-ac91-6f4679ed5cf5\">\n",
              "    <div class=\"colab-df-container\">\n",
              "      <div>\n",
              "<style scoped>\n",
              "    .dataframe tbody tr th:only-of-type {\n",
              "        vertical-align: middle;\n",
              "    }\n",
              "\n",
              "    .dataframe tbody tr th {\n",
              "        vertical-align: top;\n",
              "    }\n",
              "\n",
              "    .dataframe thead th {\n",
              "        text-align: right;\n",
              "    }\n",
              "</style>\n",
              "<table border=\"1\" class=\"dataframe\">\n",
              "  <thead>\n",
              "    <tr style=\"text-align: right;\">\n",
              "      <th></th>\n",
              "      <th>name</th>\n",
              "      <th>gender</th>\n",
              "      <th>race</th>\n",
              "    </tr>\n",
              "  </thead>\n",
              "  <tbody>\n",
              "    <tr>\n",
              "      <th>0</th>\n",
              "      <td>shivani</td>\n",
              "      <td>f</td>\n",
              "      <td>indian</td>\n",
              "    </tr>\n",
              "    <tr>\n",
              "      <th>1</th>\n",
              "      <td>isha</td>\n",
              "      <td>f</td>\n",
              "      <td>indian</td>\n",
              "    </tr>\n",
              "    <tr>\n",
              "      <th>2</th>\n",
              "      <td>smt shyani devi</td>\n",
              "      <td>f</td>\n",
              "      <td>indian</td>\n",
              "    </tr>\n",
              "    <tr>\n",
              "      <th>3</th>\n",
              "      <td>divya</td>\n",
              "      <td>f</td>\n",
              "      <td>indian</td>\n",
              "    </tr>\n",
              "    <tr>\n",
              "      <th>4</th>\n",
              "      <td>mansi</td>\n",
              "      <td>f</td>\n",
              "      <td>indian</td>\n",
              "    </tr>\n",
              "  </tbody>\n",
              "</table>\n",
              "</div>\n",
              "      <button class=\"colab-df-convert\" onclick=\"convertToInteractive('df-b6d64392-e6f7-47cd-ac91-6f4679ed5cf5')\"\n",
              "              title=\"Convert this dataframe to an interactive table.\"\n",
              "              style=\"display:none;\">\n",
              "        \n",
              "  <svg xmlns=\"http://www.w3.org/2000/svg\" height=\"24px\"viewBox=\"0 0 24 24\"\n",
              "       width=\"24px\">\n",
              "    <path d=\"M0 0h24v24H0V0z\" fill=\"none\"/>\n",
              "    <path d=\"M18.56 5.44l.94 2.06.94-2.06 2.06-.94-2.06-.94-.94-2.06-.94 2.06-2.06.94zm-11 1L8.5 8.5l.94-2.06 2.06-.94-2.06-.94L8.5 2.5l-.94 2.06-2.06.94zm10 10l.94 2.06.94-2.06 2.06-.94-2.06-.94-.94-2.06-.94 2.06-2.06.94z\"/><path d=\"M17.41 7.96l-1.37-1.37c-.4-.4-.92-.59-1.43-.59-.52 0-1.04.2-1.43.59L10.3 9.45l-7.72 7.72c-.78.78-.78 2.05 0 2.83L4 21.41c.39.39.9.59 1.41.59.51 0 1.02-.2 1.41-.59l7.78-7.78 2.81-2.81c.8-.78.8-2.07 0-2.86zM5.41 20L4 18.59l7.72-7.72 1.47 1.35L5.41 20z\"/>\n",
              "  </svg>\n",
              "      </button>\n",
              "      \n",
              "  <style>\n",
              "    .colab-df-container {\n",
              "      display:flex;\n",
              "      flex-wrap:wrap;\n",
              "      gap: 12px;\n",
              "    }\n",
              "\n",
              "    .colab-df-convert {\n",
              "      background-color: #E8F0FE;\n",
              "      border: none;\n",
              "      border-radius: 50%;\n",
              "      cursor: pointer;\n",
              "      display: none;\n",
              "      fill: #1967D2;\n",
              "      height: 32px;\n",
              "      padding: 0 0 0 0;\n",
              "      width: 32px;\n",
              "    }\n",
              "\n",
              "    .colab-df-convert:hover {\n",
              "      background-color: #E2EBFA;\n",
              "      box-shadow: 0px 1px 2px rgba(60, 64, 67, 0.3), 0px 1px 3px 1px rgba(60, 64, 67, 0.15);\n",
              "      fill: #174EA6;\n",
              "    }\n",
              "\n",
              "    [theme=dark] .colab-df-convert {\n",
              "      background-color: #3B4455;\n",
              "      fill: #D2E3FC;\n",
              "    }\n",
              "\n",
              "    [theme=dark] .colab-df-convert:hover {\n",
              "      background-color: #434B5C;\n",
              "      box-shadow: 0px 1px 3px 1px rgba(0, 0, 0, 0.15);\n",
              "      filter: drop-shadow(0px 1px 2px rgba(0, 0, 0, 0.3));\n",
              "      fill: #FFFFFF;\n",
              "    }\n",
              "  </style>\n",
              "\n",
              "      <script>\n",
              "        const buttonEl =\n",
              "          document.querySelector('#df-b6d64392-e6f7-47cd-ac91-6f4679ed5cf5 button.colab-df-convert');\n",
              "        buttonEl.style.display =\n",
              "          google.colab.kernel.accessAllowed ? 'block' : 'none';\n",
              "\n",
              "        async function convertToInteractive(key) {\n",
              "          const element = document.querySelector('#df-b6d64392-e6f7-47cd-ac91-6f4679ed5cf5');\n",
              "          const dataTable =\n",
              "            await google.colab.kernel.invokeFunction('convertToInteractive',\n",
              "                                                     [key], {});\n",
              "          if (!dataTable) return;\n",
              "\n",
              "          const docLinkHtml = 'Like what you see? Visit the ' +\n",
              "            '<a target=\"_blank\" href=https://colab.research.google.com/notebooks/data_table.ipynb>data table notebook</a>'\n",
              "            + ' to learn more about interactive tables.';\n",
              "          element.innerHTML = '';\n",
              "          dataTable['output_type'] = 'display_data';\n",
              "          await google.colab.output.renderOutput(dataTable, element);\n",
              "          const docLink = document.createElement('div');\n",
              "          docLink.innerHTML = docLinkHtml;\n",
              "          element.appendChild(docLink);\n",
              "        }\n",
              "      </script>\n",
              "    </div>\n",
              "  </div>\n",
              "  "
            ]
          },
          "metadata": {},
          "execution_count": 4
        }
      ]
    },
    {
      "cell_type": "code",
      "source": [
        "# Encoding male to '1' and removing the race column\n",
        "male_df.gender = male_df.gender.apply(lambda x: 1)\n",
        "male_df.drop('race', 1, inplace=True)\n",
        "male_df.head()"
      ],
      "metadata": {
        "id": "BUYqJwrq3rEx",
        "colab": {
          "base_uri": "https://localhost:8080/",
          "height": 261
        },
        "outputId": "ab0ed710-f8d0-40a6-be02-aa796c5a1ddb"
      },
      "execution_count": null,
      "outputs": [
        {
          "output_type": "stream",
          "name": "stderr",
          "text": [
            "/usr/local/lib/python3.7/dist-packages/ipykernel_launcher.py:2: FutureWarning: In a future version of pandas all arguments of DataFrame.drop except for the argument 'labels' will be keyword-only\n",
            "  \n"
          ]
        },
        {
          "output_type": "execute_result",
          "data": {
            "text/plain": [
              "              name  gender\n",
              "0          barjraj       1\n",
              "1     ramdin verma       1\n",
              "2  sharat chandran       1\n",
              "3  birender mandal       1\n",
              "4             amit       1"
            ],
            "text/html": [
              "\n",
              "  <div id=\"df-d4e545f1-34f3-4fbc-b8e4-f9493134b11c\">\n",
              "    <div class=\"colab-df-container\">\n",
              "      <div>\n",
              "<style scoped>\n",
              "    .dataframe tbody tr th:only-of-type {\n",
              "        vertical-align: middle;\n",
              "    }\n",
              "\n",
              "    .dataframe tbody tr th {\n",
              "        vertical-align: top;\n",
              "    }\n",
              "\n",
              "    .dataframe thead th {\n",
              "        text-align: right;\n",
              "    }\n",
              "</style>\n",
              "<table border=\"1\" class=\"dataframe\">\n",
              "  <thead>\n",
              "    <tr style=\"text-align: right;\">\n",
              "      <th></th>\n",
              "      <th>name</th>\n",
              "      <th>gender</th>\n",
              "    </tr>\n",
              "  </thead>\n",
              "  <tbody>\n",
              "    <tr>\n",
              "      <th>0</th>\n",
              "      <td>barjraj</td>\n",
              "      <td>1</td>\n",
              "    </tr>\n",
              "    <tr>\n",
              "      <th>1</th>\n",
              "      <td>ramdin verma</td>\n",
              "      <td>1</td>\n",
              "    </tr>\n",
              "    <tr>\n",
              "      <th>2</th>\n",
              "      <td>sharat chandran</td>\n",
              "      <td>1</td>\n",
              "    </tr>\n",
              "    <tr>\n",
              "      <th>3</th>\n",
              "      <td>birender mandal</td>\n",
              "      <td>1</td>\n",
              "    </tr>\n",
              "    <tr>\n",
              "      <th>4</th>\n",
              "      <td>amit</td>\n",
              "      <td>1</td>\n",
              "    </tr>\n",
              "  </tbody>\n",
              "</table>\n",
              "</div>\n",
              "      <button class=\"colab-df-convert\" onclick=\"convertToInteractive('df-d4e545f1-34f3-4fbc-b8e4-f9493134b11c')\"\n",
              "              title=\"Convert this dataframe to an interactive table.\"\n",
              "              style=\"display:none;\">\n",
              "        \n",
              "  <svg xmlns=\"http://www.w3.org/2000/svg\" height=\"24px\"viewBox=\"0 0 24 24\"\n",
              "       width=\"24px\">\n",
              "    <path d=\"M0 0h24v24H0V0z\" fill=\"none\"/>\n",
              "    <path d=\"M18.56 5.44l.94 2.06.94-2.06 2.06-.94-2.06-.94-.94-2.06-.94 2.06-2.06.94zm-11 1L8.5 8.5l.94-2.06 2.06-.94-2.06-.94L8.5 2.5l-.94 2.06-2.06.94zm10 10l.94 2.06.94-2.06 2.06-.94-2.06-.94-.94-2.06-.94 2.06-2.06.94z\"/><path d=\"M17.41 7.96l-1.37-1.37c-.4-.4-.92-.59-1.43-.59-.52 0-1.04.2-1.43.59L10.3 9.45l-7.72 7.72c-.78.78-.78 2.05 0 2.83L4 21.41c.39.39.9.59 1.41.59.51 0 1.02-.2 1.41-.59l7.78-7.78 2.81-2.81c.8-.78.8-2.07 0-2.86zM5.41 20L4 18.59l7.72-7.72 1.47 1.35L5.41 20z\"/>\n",
              "  </svg>\n",
              "      </button>\n",
              "      \n",
              "  <style>\n",
              "    .colab-df-container {\n",
              "      display:flex;\n",
              "      flex-wrap:wrap;\n",
              "      gap: 12px;\n",
              "    }\n",
              "\n",
              "    .colab-df-convert {\n",
              "      background-color: #E8F0FE;\n",
              "      border: none;\n",
              "      border-radius: 50%;\n",
              "      cursor: pointer;\n",
              "      display: none;\n",
              "      fill: #1967D2;\n",
              "      height: 32px;\n",
              "      padding: 0 0 0 0;\n",
              "      width: 32px;\n",
              "    }\n",
              "\n",
              "    .colab-df-convert:hover {\n",
              "      background-color: #E2EBFA;\n",
              "      box-shadow: 0px 1px 2px rgba(60, 64, 67, 0.3), 0px 1px 3px 1px rgba(60, 64, 67, 0.15);\n",
              "      fill: #174EA6;\n",
              "    }\n",
              "\n",
              "    [theme=dark] .colab-df-convert {\n",
              "      background-color: #3B4455;\n",
              "      fill: #D2E3FC;\n",
              "    }\n",
              "\n",
              "    [theme=dark] .colab-df-convert:hover {\n",
              "      background-color: #434B5C;\n",
              "      box-shadow: 0px 1px 3px 1px rgba(0, 0, 0, 0.15);\n",
              "      filter: drop-shadow(0px 1px 2px rgba(0, 0, 0, 0.3));\n",
              "      fill: #FFFFFF;\n",
              "    }\n",
              "  </style>\n",
              "\n",
              "      <script>\n",
              "        const buttonEl =\n",
              "          document.querySelector('#df-d4e545f1-34f3-4fbc-b8e4-f9493134b11c button.colab-df-convert');\n",
              "        buttonEl.style.display =\n",
              "          google.colab.kernel.accessAllowed ? 'block' : 'none';\n",
              "\n",
              "        async function convertToInteractive(key) {\n",
              "          const element = document.querySelector('#df-d4e545f1-34f3-4fbc-b8e4-f9493134b11c');\n",
              "          const dataTable =\n",
              "            await google.colab.kernel.invokeFunction('convertToInteractive',\n",
              "                                                     [key], {});\n",
              "          if (!dataTable) return;\n",
              "\n",
              "          const docLinkHtml = 'Like what you see? Visit the ' +\n",
              "            '<a target=\"_blank\" href=https://colab.research.google.com/notebooks/data_table.ipynb>data table notebook</a>'\n",
              "            + ' to learn more about interactive tables.';\n",
              "          element.innerHTML = '';\n",
              "          dataTable['output_type'] = 'display_data';\n",
              "          await google.colab.output.renderOutput(dataTable, element);\n",
              "          const docLink = document.createElement('div');\n",
              "          docLink.innerHTML = docLinkHtml;\n",
              "          element.appendChild(docLink);\n",
              "        }\n",
              "      </script>\n",
              "    </div>\n",
              "  </div>\n",
              "  "
            ]
          },
          "metadata": {},
          "execution_count": 5
        }
      ]
    },
    {
      "cell_type": "code",
      "source": [
        "# Encoding female to '0' and removing the race column\n",
        "female_df.gender = female_df.gender.apply(lambda x: 0)\n",
        "female_df.drop('race',1, inplace=True)\n",
        "female_df.head()"
      ],
      "metadata": {
        "id": "Sr8fC_fCvFe8",
        "outputId": "26dd990e-bd9d-4c30-fcc6-5913fbc703e4",
        "colab": {
          "base_uri": "https://localhost:8080/",
          "height": 261
        }
      },
      "execution_count": null,
      "outputs": [
        {
          "output_type": "stream",
          "name": "stderr",
          "text": [
            "/usr/local/lib/python3.7/dist-packages/ipykernel_launcher.py:2: FutureWarning: In a future version of pandas all arguments of DataFrame.drop except for the argument 'labels' will be keyword-only\n",
            "  \n"
          ]
        },
        {
          "output_type": "execute_result",
          "data": {
            "text/plain": [
              "              name  gender\n",
              "0          shivani       0\n",
              "1             isha       0\n",
              "2  smt shyani devi       0\n",
              "3            divya       0\n",
              "4            mansi       0"
            ],
            "text/html": [
              "\n",
              "  <div id=\"df-0d92fc6c-1ccb-4af9-8061-ac2345d7bc1a\">\n",
              "    <div class=\"colab-df-container\">\n",
              "      <div>\n",
              "<style scoped>\n",
              "    .dataframe tbody tr th:only-of-type {\n",
              "        vertical-align: middle;\n",
              "    }\n",
              "\n",
              "    .dataframe tbody tr th {\n",
              "        vertical-align: top;\n",
              "    }\n",
              "\n",
              "    .dataframe thead th {\n",
              "        text-align: right;\n",
              "    }\n",
              "</style>\n",
              "<table border=\"1\" class=\"dataframe\">\n",
              "  <thead>\n",
              "    <tr style=\"text-align: right;\">\n",
              "      <th></th>\n",
              "      <th>name</th>\n",
              "      <th>gender</th>\n",
              "    </tr>\n",
              "  </thead>\n",
              "  <tbody>\n",
              "    <tr>\n",
              "      <th>0</th>\n",
              "      <td>shivani</td>\n",
              "      <td>0</td>\n",
              "    </tr>\n",
              "    <tr>\n",
              "      <th>1</th>\n",
              "      <td>isha</td>\n",
              "      <td>0</td>\n",
              "    </tr>\n",
              "    <tr>\n",
              "      <th>2</th>\n",
              "      <td>smt shyani devi</td>\n",
              "      <td>0</td>\n",
              "    </tr>\n",
              "    <tr>\n",
              "      <th>3</th>\n",
              "      <td>divya</td>\n",
              "      <td>0</td>\n",
              "    </tr>\n",
              "    <tr>\n",
              "      <th>4</th>\n",
              "      <td>mansi</td>\n",
              "      <td>0</td>\n",
              "    </tr>\n",
              "  </tbody>\n",
              "</table>\n",
              "</div>\n",
              "      <button class=\"colab-df-convert\" onclick=\"convertToInteractive('df-0d92fc6c-1ccb-4af9-8061-ac2345d7bc1a')\"\n",
              "              title=\"Convert this dataframe to an interactive table.\"\n",
              "              style=\"display:none;\">\n",
              "        \n",
              "  <svg xmlns=\"http://www.w3.org/2000/svg\" height=\"24px\"viewBox=\"0 0 24 24\"\n",
              "       width=\"24px\">\n",
              "    <path d=\"M0 0h24v24H0V0z\" fill=\"none\"/>\n",
              "    <path d=\"M18.56 5.44l.94 2.06.94-2.06 2.06-.94-2.06-.94-.94-2.06-.94 2.06-2.06.94zm-11 1L8.5 8.5l.94-2.06 2.06-.94-2.06-.94L8.5 2.5l-.94 2.06-2.06.94zm10 10l.94 2.06.94-2.06 2.06-.94-2.06-.94-.94-2.06-.94 2.06-2.06.94z\"/><path d=\"M17.41 7.96l-1.37-1.37c-.4-.4-.92-.59-1.43-.59-.52 0-1.04.2-1.43.59L10.3 9.45l-7.72 7.72c-.78.78-.78 2.05 0 2.83L4 21.41c.39.39.9.59 1.41.59.51 0 1.02-.2 1.41-.59l7.78-7.78 2.81-2.81c.8-.78.8-2.07 0-2.86zM5.41 20L4 18.59l7.72-7.72 1.47 1.35L5.41 20z\"/>\n",
              "  </svg>\n",
              "      </button>\n",
              "      \n",
              "  <style>\n",
              "    .colab-df-container {\n",
              "      display:flex;\n",
              "      flex-wrap:wrap;\n",
              "      gap: 12px;\n",
              "    }\n",
              "\n",
              "    .colab-df-convert {\n",
              "      background-color: #E8F0FE;\n",
              "      border: none;\n",
              "      border-radius: 50%;\n",
              "      cursor: pointer;\n",
              "      display: none;\n",
              "      fill: #1967D2;\n",
              "      height: 32px;\n",
              "      padding: 0 0 0 0;\n",
              "      width: 32px;\n",
              "    }\n",
              "\n",
              "    .colab-df-convert:hover {\n",
              "      background-color: #E2EBFA;\n",
              "      box-shadow: 0px 1px 2px rgba(60, 64, 67, 0.3), 0px 1px 3px 1px rgba(60, 64, 67, 0.15);\n",
              "      fill: #174EA6;\n",
              "    }\n",
              "\n",
              "    [theme=dark] .colab-df-convert {\n",
              "      background-color: #3B4455;\n",
              "      fill: #D2E3FC;\n",
              "    }\n",
              "\n",
              "    [theme=dark] .colab-df-convert:hover {\n",
              "      background-color: #434B5C;\n",
              "      box-shadow: 0px 1px 3px 1px rgba(0, 0, 0, 0.15);\n",
              "      filter: drop-shadow(0px 1px 2px rgba(0, 0, 0, 0.3));\n",
              "      fill: #FFFFFF;\n",
              "    }\n",
              "  </style>\n",
              "\n",
              "      <script>\n",
              "        const buttonEl =\n",
              "          document.querySelector('#df-0d92fc6c-1ccb-4af9-8061-ac2345d7bc1a button.colab-df-convert');\n",
              "        buttonEl.style.display =\n",
              "          google.colab.kernel.accessAllowed ? 'block' : 'none';\n",
              "\n",
              "        async function convertToInteractive(key) {\n",
              "          const element = document.querySelector('#df-0d92fc6c-1ccb-4af9-8061-ac2345d7bc1a');\n",
              "          const dataTable =\n",
              "            await google.colab.kernel.invokeFunction('convertToInteractive',\n",
              "                                                     [key], {});\n",
              "          if (!dataTable) return;\n",
              "\n",
              "          const docLinkHtml = 'Like what you see? Visit the ' +\n",
              "            '<a target=\"_blank\" href=https://colab.research.google.com/notebooks/data_table.ipynb>data table notebook</a>'\n",
              "            + ' to learn more about interactive tables.';\n",
              "          element.innerHTML = '';\n",
              "          dataTable['output_type'] = 'display_data';\n",
              "          await google.colab.output.renderOutput(dataTable, element);\n",
              "          const docLink = document.createElement('div');\n",
              "          docLink.innerHTML = docLinkHtml;\n",
              "          element.appendChild(docLink);\n",
              "        }\n",
              "      </script>\n",
              "    </div>\n",
              "  </div>\n",
              "  "
            ]
          },
          "metadata": {},
          "execution_count": 6
        }
      ]
    },
    {
      "cell_type": "code",
      "source": [
        "# Combining both the datasets\n",
        "data_df = pd.concat([female_df, male_df])"
      ],
      "metadata": {
        "id": "5tTOMh3X1XuD"
      },
      "execution_count": null,
      "outputs": []
    },
    {
      "cell_type": "code",
      "source": [
        "gender, count = np.unique(data_df['gender'], return_counts = True)\n",
        "gender = [\"Female\", \"Male\"]"
      ],
      "metadata": {
        "id": "PBeYCouxzgGE"
      },
      "execution_count": null,
      "outputs": []
    },
    {
      "cell_type": "code",
      "source": [
        "plt.title(\"Gender-wise distribution of names before pre-processing\")\n",
        "plt.xlabel(\"Gender\")\n",
        "plt.ylabel(\"Count\")\n",
        "plt.bar(gender, count)\n",
        "plt.show()"
      ],
      "metadata": {
        "colab": {
          "base_uri": "https://localhost:8080/",
          "height": 295
        },
        "id": "3iU5r7g3402B",
        "outputId": "f3b56445-aa53-4ff1-fdd4-cb406e8c6872"
      },
      "execution_count": null,
      "outputs": [
        {
          "output_type": "display_data",
          "data": {
            "text/plain": [
              "<Figure size 432x288 with 1 Axes>"
            ],
            "image/png": "[encoded data removed]"
          },
          "metadata": {
            "needs_background": "light"
          }
        }
      ]
    },
    {
      "cell_type": "markdown",
      "source": [
        "# Data cleaning and pre-processing"
      ],
      "metadata": {
        "id": "gK3wt5p9i9Kt"
      }
    },
    {
      "cell_type": "code",
      "source": [
        "#dropping NAN and removing duplicates\n",
        "data_df.dropna(inplace=True)\n",
        "data_df.drop_duplicates(subset=['name'], keep='first', ignore_index=True, inplace=True)"
      ],
      "metadata": {
        "id": "tEzhNvYi3vl4"
      },
      "execution_count": null,
      "outputs": []
    },
    {
      "cell_type": "code",
      "source": [
        "data_df = data_df.sample(frac=1).reset_index(drop=True)\n",
        "data_df.head()"
      ],
      "metadata": {
        "id": "zZyr9EV61giC",
        "colab": {
          "base_uri": "https://localhost:8080/",
          "height": 206
        },
        "outputId": "5dcccc3c-abec-44ab-9a92-53695a6f4143"
      },
      "execution_count": null,
      "outputs": [
        {
          "output_type": "execute_result",
          "data": {
            "text/plain": [
              "              name  gender\n",
              "0    bacchu paswan       1\n",
              "1           tafsir       1\n",
              "2           suhail       1\n",
              "3  sunita urf sonu       0\n",
              "4     kuldeep kour       1"
            ],
            "text/html": [
              "\n",
              "  <div id=\"df-9d5dc5eb-3e7d-4af7-b7eb-ff5ebd5f29f9\">\n",
              "    <div class=\"colab-df-container\">\n",
              "      <div>\n",
              "<style scoped>\n",
              "    .dataframe tbody tr th:only-of-type {\n",
              "        vertical-align: middle;\n",
              "    }\n",
              "\n",
              "    .dataframe tbody tr th {\n",
              "        vertical-align: top;\n",
              "    }\n",
              "\n",
              "    .dataframe thead th {\n",
              "        text-align: right;\n",
              "    }\n",
              "</style>\n",
              "<table border=\"1\" class=\"dataframe\">\n",
              "  <thead>\n",
              "    <tr style=\"text-align: right;\">\n",
              "      <th></th>\n",
              "      <th>name</th>\n",
              "      <th>gender</th>\n",
              "    </tr>\n",
              "  </thead>\n",
              "  <tbody>\n",
              "    <tr>\n",
              "      <th>0</th>\n",
              "      <td>bacchu paswan</td>\n",
              "      <td>1</td>\n",
              "    </tr>\n",
              "    <tr>\n",
              "      <th>1</th>\n",
              "      <td>tafsir</td>\n",
              "      <td>1</td>\n",
              "    </tr>\n",
              "    <tr>\n",
              "      <th>2</th>\n",
              "      <td>suhail</td>\n",
              "      <td>1</td>\n",
              "    </tr>\n",
              "    <tr>\n",
              "      <th>3</th>\n",
              "      <td>sunita urf sonu</td>\n",
              "      <td>0</td>\n",
              "    </tr>\n",
              "    <tr>\n",
              "      <th>4</th>\n",
              "      <td>kuldeep kour</td>\n",
              "      <td>1</td>\n",
              "    </tr>\n",
              "  </tbody>\n",
              "</table>\n",
              "</div>\n",
              "      <button class=\"colab-df-convert\" onclick=\"convertToInteractive('df-9d5dc5eb-3e7d-4af7-b7eb-ff5ebd5f29f9')\"\n",
              "              title=\"Convert this dataframe to an interactive table.\"\n",
              "              style=\"display:none;\">\n",
              "        \n",
              "  <svg xmlns=\"http://www.w3.org/2000/svg\" height=\"24px\"viewBox=\"0 0 24 24\"\n",
              "       width=\"24px\">\n",
              "    <path d=\"M0 0h24v24H0V0z\" fill=\"none\"/>\n",
              "    <path d=\"M18.56 5.44l.94 2.06.94-2.06 2.06-.94-2.06-.94-.94-2.06-.94 2.06-2.06.94zm-11 1L8.5 8.5l.94-2.06 2.06-.94-2.06-.94L8.5 2.5l-.94 2.06-2.06.94zm10 10l.94 2.06.94-2.06 2.06-.94-2.06-.94-.94-2.06-.94 2.06-2.06.94z\"/><path d=\"M17.41 7.96l-1.37-1.37c-.4-.4-.92-.59-1.43-.59-.52 0-1.04.2-1.43.59L10.3 9.45l-7.72 7.72c-.78.78-.78 2.05 0 2.83L4 21.41c.39.39.9.59 1.41.59.51 0 1.02-.2 1.41-.59l7.78-7.78 2.81-2.81c.8-.78.8-2.07 0-2.86zM5.41 20L4 18.59l7.72-7.72 1.47 1.35L5.41 20z\"/>\n",
              "  </svg>\n",
              "      </button>\n",
              "      \n",
              "  <style>\n",
              "    .colab-df-container {\n",
              "      display:flex;\n",
              "      flex-wrap:wrap;\n",
              "      gap: 12px;\n",
              "    }\n",
              "\n",
              "    .colab-df-convert {\n",
              "      background-color: #E8F0FE;\n",
              "      border: none;\n",
              "      border-radius: 50%;\n",
              "      cursor: pointer;\n",
              "      display: none;\n",
              "      fill: #1967D2;\n",
              "      height: 32px;\n",
              "      padding: 0 0 0 0;\n",
              "      width: 32px;\n",
              "    }\n",
              "\n",
              "    .colab-df-convert:hover {\n",
              "      background-color: #E2EBFA;\n",
              "      box-shadow: 0px 1px 2px rgba(60, 64, 67, 0.3), 0px 1px 3px 1px rgba(60, 64, 67, 0.15);\n",
              "      fill: #174EA6;\n",
              "    }\n",
              "\n",
              "    [theme=dark] .colab-df-convert {\n",
              "      background-color: #3B4455;\n",
              "      fill: #D2E3FC;\n",
              "    }\n",
              "\n",
              "    [theme=dark] .colab-df-convert:hover {\n",
              "      background-color: #434B5C;\n",
              "      box-shadow: 0px 1px 3px 1px rgba(0, 0, 0, 0.15);\n",
              "      filter: drop-shadow(0px 1px 2px rgba(0, 0, 0, 0.3));\n",
              "      fill: #FFFFFF;\n",
              "    }\n",
              "  </style>\n",
              "\n",
              "      <script>\n",
              "        const buttonEl =\n",
              "          document.querySelector('#df-9d5dc5eb-3e7d-4af7-b7eb-ff5ebd5f29f9 button.colab-df-convert');\n",
              "        buttonEl.style.display =\n",
              "          google.colab.kernel.accessAllowed ? 'block' : 'none';\n",
              "\n",
              "        async function convertToInteractive(key) {\n",
              "          const element = document.querySelector('#df-9d5dc5eb-3e7d-4af7-b7eb-ff5ebd5f29f9');\n",
              "          const dataTable =\n",
              "            await google.colab.kernel.invokeFunction('convertToInteractive',\n",
              "                                                     [key], {});\n",
              "          if (!dataTable) return;\n",
              "\n",
              "          const docLinkHtml = 'Like what you see? Visit the ' +\n",
              "            '<a target=\"_blank\" href=https://colab.research.google.com/notebooks/data_table.ipynb>data table notebook</a>'\n",
              "            + ' to learn more about interactive tables.';\n",
              "          element.innerHTML = '';\n",
              "          dataTable['output_type'] = 'display_data';\n",
              "          await google.colab.output.renderOutput(dataTable, element);\n",
              "          const docLink = document.createElement('div');\n",
              "          docLink.innerHTML = docLinkHtml;\n",
              "          element.appendChild(docLink);\n",
              "        }\n",
              "      </script>\n",
              "    </div>\n",
              "  </div>\n",
              "  "
            ]
          },
          "metadata": {},
          "execution_count": 11
        }
      ]
    },
    {
      "cell_type": "code",
      "source": [
        "#Chacter set\n",
        "def get_character_set(df):\n",
        "  character_set = sorted(list(set(\"\".join(df.name.to_numpy()))))\n",
        "  return character_set"
      ],
      "metadata": {
        "id": "Se2L_Xq7iYXs"
      },
      "execution_count": null,
      "outputs": []
    },
    {
      "cell_type": "code",
      "source": [
        "print(get_character_set(data_df))"
      ],
      "metadata": {
        "colab": {
          "base_uri": "https://localhost:8080/"
        },
        "id": "EW1LQPavlPqn",
        "outputId": "2d4a5cb8-ecb5-445e-d81b-cff8c438b4bc"
      },
      "execution_count": null,
      "outputs": [
        {
          "output_type": "stream",
          "name": "stdout",
          "text": [
            "['\\t', ' ', '$', '&', '(', ')', '+', ',', '-', '.', '/', '0', '1', '2', '3', '4', '5', '6', '7', '8', '9', ':', '@', '[', '\\\\', '`', 'a', 'b', 'c', 'd', 'e', 'f', 'g', 'h', 'i', 'j', 'k', 'l', 'm', 'n', 'o', 'p', 'q', 'r', 's', 't', 'u', 'v', 'w', 'x', 'y', 'z', 'ì', 'ं', 'अ', 'आ', 'इ', 'ई', 'उ', 'ऐ', 'क', 'ख', 'ग', 'च', 'छ', 'ज', 'ट', 'ण', 'त', 'द', 'ध', 'न', 'प', 'फ', 'ब', 'भ', 'म', 'य', 'र', 'ल', 'व', 'श', 'ष', 'स', 'ह', '़', 'ा', 'ि', 'ी', 'ु', 'ू', 'े', 'ै', 'ो', '्', '\\u200d', '�']\n"
          ]
        }
      ]
    },
    {
      "cell_type": "code",
      "source": [
        "#defining a function to remove special character\n",
        "def filter(name):\n",
        "  name = name.lower()\n",
        "  name = name.split()[0]\n",
        "  cleaned_name = \"\"\n",
        "  for ch in name:\n",
        "    if ch in 'abcdefghijklmnopqrstuvwxyz':\n",
        "      cleaned_name += ch\n",
        "  return cleaned_name"
      ],
      "metadata": {
        "id": "5BMwdoT2qkJ1"
      },
      "execution_count": null,
      "outputs": []
    },
    {
      "cell_type": "code",
      "source": [
        "#applying function to whole dataset\n",
        "data_df.name = data_df.name.apply(filter)"
      ],
      "metadata": {
        "id": "6Jo-6nKMzCnm"
      },
      "execution_count": null,
      "outputs": []
    },
    {
      "cell_type": "code",
      "source": [
        "valid_row_idx = [i for i, name in enumerate(data_df.name) if len(name) >= 4]\n",
        "data_df = data_df.iloc[valid_row_idx,:]\n",
        "data_df.head()"
      ],
      "metadata": {
        "colab": {
          "base_uri": "https://localhost:8080/",
          "height": 206
        },
        "id": "WBH6VMbu4h7f",
        "outputId": "dc05a117-625f-49ab-94e9-680ea1b74c97"
      },
      "execution_count": null,
      "outputs": [
        {
          "output_type": "execute_result",
          "data": {
            "text/plain": [
              "      name  gender\n",
              "0   bacchu       1\n",
              "1   tafsir       1\n",
              "2   suhail       1\n",
              "3   sunita       0\n",
              "4  kuldeep       1"
            ],
            "text/html": [
              "\n",
              "  <div id=\"df-88c1a9bb-d082-46df-a8f7-1d768f8e0218\">\n",
              "    <div class=\"colab-df-container\">\n",
              "      <div>\n",
              "<style scoped>\n",
              "    .dataframe tbody tr th:only-of-type {\n",
              "        vertical-align: middle;\n",
              "    }\n",
              "\n",
              "    .dataframe tbody tr th {\n",
              "        vertical-align: top;\n",
              "    }\n",
              "\n",
              "    .dataframe thead th {\n",
              "        text-align: right;\n",
              "    }\n",
              "</style>\n",
              "<table border=\"1\" class=\"dataframe\">\n",
              "  <thead>\n",
              "    <tr style=\"text-align: right;\">\n",
              "      <th></th>\n",
              "      <th>name</th>\n",
              "      <th>gender</th>\n",
              "    </tr>\n",
              "  </thead>\n",
              "  <tbody>\n",
              "    <tr>\n",
              "      <th>0</th>\n",
              "      <td>bacchu</td>\n",
              "      <td>1</td>\n",
              "    </tr>\n",
              "    <tr>\n",
              "      <th>1</th>\n",
              "      <td>tafsir</td>\n",
              "      <td>1</td>\n",
              "    </tr>\n",
              "    <tr>\n",
              "      <th>2</th>\n",
              "      <td>suhail</td>\n",
              "      <td>1</td>\n",
              "    </tr>\n",
              "    <tr>\n",
              "      <th>3</th>\n",
              "      <td>sunita</td>\n",
              "      <td>0</td>\n",
              "    </tr>\n",
              "    <tr>\n",
              "      <th>4</th>\n",
              "      <td>kuldeep</td>\n",
              "      <td>1</td>\n",
              "    </tr>\n",
              "  </tbody>\n",
              "</table>\n",
              "</div>\n",
              "      <button class=\"colab-df-convert\" onclick=\"convertToInteractive('df-88c1a9bb-d082-46df-a8f7-1d768f8e0218')\"\n",
              "              title=\"Convert this dataframe to an interactive table.\"\n",
              "              style=\"display:none;\">\n",
              "        \n",
              "  <svg xmlns=\"http://www.w3.org/2000/svg\" height=\"24px\"viewBox=\"0 0 24 24\"\n",
              "       width=\"24px\">\n",
              "    <path d=\"M0 0h24v24H0V0z\" fill=\"none\"/>\n",
              "    <path d=\"M18.56 5.44l.94 2.06.94-2.06 2.06-.94-2.06-.94-.94-2.06-.94 2.06-2.06.94zm-11 1L8.5 8.5l.94-2.06 2.06-.94-2.06-.94L8.5 2.5l-.94 2.06-2.06.94zm10 10l.94 2.06.94-2.06 2.06-.94-2.06-.94-.94-2.06-.94 2.06-2.06.94z\"/><path d=\"M17.41 7.96l-1.37-1.37c-.4-.4-.92-.59-1.43-.59-.52 0-1.04.2-1.43.59L10.3 9.45l-7.72 7.72c-.78.78-.78 2.05 0 2.83L4 21.41c.39.39.9.59 1.41.59.51 0 1.02-.2 1.41-.59l7.78-7.78 2.81-2.81c.8-.78.8-2.07 0-2.86zM5.41 20L4 18.59l7.72-7.72 1.47 1.35L5.41 20z\"/>\n",
              "  </svg>\n",
              "      </button>\n",
              "      \n",
              "  <style>\n",
              "    .colab-df-container {\n",
              "      display:flex;\n",
              "      flex-wrap:wrap;\n",
              "      gap: 12px;\n",
              "    }\n",
              "\n",
              "    .colab-df-convert {\n",
              "      background-color: #E8F0FE;\n",
              "      border: none;\n",
              "      border-radius: 50%;\n",
              "      cursor: pointer;\n",
              "      display: none;\n",
              "      fill: #1967D2;\n",
              "      height: 32px;\n",
              "      padding: 0 0 0 0;\n",
              "      width: 32px;\n",
              "    }\n",
              "\n",
              "    .colab-df-convert:hover {\n",
              "      background-color: #E2EBFA;\n",
              "      box-shadow: 0px 1px 2px rgba(60, 64, 67, 0.3), 0px 1px 3px 1px rgba(60, 64, 67, 0.15);\n",
              "      fill: #174EA6;\n",
              "    }\n",
              "\n",
              "    [theme=dark] .colab-df-convert {\n",
              "      background-color: #3B4455;\n",
              "      fill: #D2E3FC;\n",
              "    }\n",
              "\n",
              "    [theme=dark] .colab-df-convert:hover {\n",
              "      background-color: #434B5C;\n",
              "      box-shadow: 0px 1px 3px 1px rgba(0, 0, 0, 0.15);\n",
              "      filter: drop-shadow(0px 1px 2px rgba(0, 0, 0, 0.3));\n",
              "      fill: #FFFFFF;\n",
              "    }\n",
              "  </style>\n",
              "\n",
              "      <script>\n",
              "        const buttonEl =\n",
              "          document.querySelector('#df-88c1a9bb-d082-46df-a8f7-1d768f8e0218 button.colab-df-convert');\n",
              "        buttonEl.style.display =\n",
              "          google.colab.kernel.accessAllowed ? 'block' : 'none';\n",
              "\n",
              "        async function convertToInteractive(key) {\n",
              "          const element = document.querySelector('#df-88c1a9bb-d082-46df-a8f7-1d768f8e0218');\n",
              "          const dataTable =\n",
              "            await google.colab.kernel.invokeFunction('convertToInteractive',\n",
              "                                                     [key], {});\n",
              "          if (!dataTable) return;\n",
              "\n",
              "          const docLinkHtml = 'Like what you see? Visit the ' +\n",
              "            '<a target=\"_blank\" href=https://colab.research.google.com/notebooks/data_table.ipynb>data table notebook</a>'\n",
              "            + ' to learn more about interactive tables.';\n",
              "          element.innerHTML = '';\n",
              "          dataTable['output_type'] = 'display_data';\n",
              "          await google.colab.output.renderOutput(dataTable, element);\n",
              "          const docLink = document.createElement('div');\n",
              "          docLink.innerHTML = docLinkHtml;\n",
              "          element.appendChild(docLink);\n",
              "        }\n",
              "      </script>\n",
              "    </div>\n",
              "  </div>\n",
              "  "
            ]
          },
          "metadata": {},
          "execution_count": 16
        }
      ]
    },
    {
      "cell_type": "code",
      "source": [
        "gender, count = np.unique(data_df['gender'], return_counts = True)\n",
        "gender = [\"Female\", \"Male\"]"
      ],
      "metadata": {
        "id": "f7lwU-lL5Ykq"
      },
      "execution_count": null,
      "outputs": []
    },
    {
      "cell_type": "code",
      "source": [
        "plt.title(\"Gender-wise distribution of names after pre-processing\")\n",
        "plt.xlabel(\"Gender\")\n",
        "plt.ylabel(\"Count\")\n",
        "plt.bar(gender, count)\n",
        "plt.show()"
      ],
      "metadata": {
        "colab": {
          "base_uri": "https://localhost:8080/",
          "height": 295
        },
        "id": "ZaaaSHS35gvt",
        "outputId": "5fecc79a-9f70-43a8-817e-58ee1fd0fc60"
      },
      "execution_count": null,
      "outputs": [
        {
          "output_type": "display_data",
          "data": {
            "text/plain": [
              "<Figure size 432x288 with 1 Axes>"
            ],
            "image/png": "[encoded data removed]"
          },
          "metadata": {
            "needs_background": "light"
          }
        }
      ]
    },
    {
      "cell_type": "code",
      "source": [
        "def isVowel(name):\n",
        "  if name[-1] in 'aeiou':\n",
        "    return 1\n",
        "  else: return 0"
      ],
      "metadata": {
        "id": "eAdg6D1D5KEQ"
      },
      "execution_count": null,
      "outputs": []
    },
    {
      "cell_type": "code",
      "source": [
        "m_count = 0\n",
        "f_count = 0\n",
        "for i in range(len(data_df)):\n",
        "  if(isVowel(str(data_df.iloc[i]['name']))):\n",
        "    if(data_df.iloc[i]['gender'] == 0):\n",
        "      f_count += 1\n",
        "    else:\n",
        "      m_count += 1"
      ],
      "metadata": {
        "id": "0f1-0az95tKm"
      },
      "execution_count": null,
      "outputs": []
    },
    {
      "cell_type": "code",
      "source": [
        "f_count = (f_count / count[0])*100\n",
        "m_count = (m_count / count[1])*100"
      ],
      "metadata": {
        "id": "4ZCfNlQA86we"
      },
      "execution_count": null,
      "outputs": []
    },
    {
      "cell_type": "code",
      "source": [
        "cnt = [f_count, m_count]"
      ],
      "metadata": {
        "id": "nlZE0uBF9Gg6"
      },
      "execution_count": null,
      "outputs": []
    },
    {
      "cell_type": "code",
      "source": [
        "plt.title(\"Gender-wise distribution of names ending with vowel\")\n",
        "plt.xlabel(\"Gender\")\n",
        "plt.ylabel(\"Percentage\")\n",
        "plt.bar(gender, cnt)\n",
        "plt.show()"
      ],
      "metadata": {
        "colab": {
          "base_uri": "https://localhost:8080/",
          "height": 295
        },
        "id": "Z-ViWNRx8lZb",
        "outputId": "4b0c8a88-2a96-4bde-b91f-c118b90ec7eb"
      },
      "execution_count": null,
      "outputs": [
        {
          "output_type": "display_data",
          "data": {
            "text/plain": [
              "<Figure size 432x288 with 1 Axes>"
            ],
            "image/png": "[encoded data removed]"
          },
          "metadata": {
            "needs_background": "light"
          }
        }
      ]
    },
    {
      "cell_type": "markdown",
      "source": [
        "# Feature engineering"
      ],
      "metadata": {
        "id": "pA1QvQGEjIp1"
      }
    },
    {
      "cell_type": "code",
      "source": [
        "# Generating the feature set\n",
        "feature_set = get_character_set(data_df) # All unique characters in the names\n",
        "print(feature_set)\n",
        "print(len(feature_set))"
      ],
      "metadata": {
        "id": "0hZWzp4XksCJ",
        "colab": {
          "base_uri": "https://localhost:8080/"
        },
        "outputId": "2590982f-fca3-4931-89ea-6d650d3cac1a"
      },
      "execution_count": null,
      "outputs": [
        {
          "output_type": "stream",
          "name": "stdout",
          "text": [
            "['a', 'b', 'c', 'd', 'e', 'f', 'g', 'h', 'i', 'j', 'k', 'l', 'm', 'n', 'o', 'p', 'q', 'r', 's', 't', 'u', 'v', 'w', 'x', 'y', 'z']\n",
            "26\n"
          ]
        }
      ]
    },
    {
      "cell_type": "code",
      "source": [
        "# Adding 2-gram suffix to the feature set\n",
        "for ind in data_df.index:\n",
        "  newString = data_df['name'][ind]\n",
        "  ss= newString[-2:]\n",
        "  feature_set.append(ss)\n",
        "feature_set=set(feature_set)\n",
        "feature_set= list(feature_set)\n",
        "print(feature_set)\n",
        "print(len(feature_set))\n"
      ],
      "metadata": {
        "id": "XJSidn-66BPl",
        "colab": {
          "base_uri": "https://localhost:8080/"
        },
        "outputId": "bbb234ec-6a55-4237-e1d8-58c16a47b417"
      },
      "execution_count": null,
      "outputs": [
        {
          "output_type": "stream",
          "name": "stdout",
          "text": [
            "['iy', 'a', 't', 'es', 'cy', 'ka', 'gi', 'or', 'k', 'ob', 'za', 'it', 'py', 'nt', 'ca', 'bi', 'sy', 'ts', 'um', 'cu', 'ij', 'si', 'te', 'nk', 'ak', 'ap', 'ut', 'vr', 'da', 'nn', 'oj', 'in', 'z', 'w', 'x', 'up', 'aj', 'ke', 'om', 'd', 'rv', 'eh', 'rg', 'ab', 'ew', 've', 'rt', 'ng', 'mo', 'un', 'is', 'ub', 'hn', 'hy', 'su', 'af', 'qu', 'ki', 'am', 'em', 'oo', 'ur', 'bh', 'no', 'pe', 'e', 'mu', 'im', 'to', 'ma', 'ez', 'nm', 'zu', 'se', 'ih', 'ig', 'rs', 'dh', 'uu', 'be', 'va', 'er', 'ir', 'wi', 'md', 'ie', 'os', 'jl', 'dr', 'ok', 'ia', 'pa', 'ji', 'll', 'iv', 'bo', 'ch', 'de', 'st', 'ti', 'az', 'pu', 'ib', 'nu', 'ty', 'i', 'id', 'p', 'ha', 'ah', 'me', 'rn', 'fi', 'an', 'ny', 'ee', 'uk', 'kt', 'ej', 'fe', 'zi', 'us', 'ga', 'ss', 'ik', 'aa', 'xi', 'yu', 'il', 'di', 'ax', 'l', 'hd', 'ri', 'aw', 'aq', 'ne', 'mt', 'n', 'sm', 'rf', 'j', 'tn', 'hl', 'ic', 'v', 'wn', 'lo', 'rd', 'ag', 'bu', 'rm', 'uf', 'by', 'h', 'oh', 'g', 'ar', 'av', 'tu', 'ky', 'ol', 'ju', 'le', 'ro', 'jo', 'ya', 'rj', 'c', 'sh', 're', 'as', 'pi', 'ra', 'et', 'm', 'ta', 'zy', 'ey', 'ly', 'ud', 'ai', 'gu', 'wa', 'uj', 'fa', 'db', 'do', 'mi', 'pp', 'vy', 'he', 'sk', 'yi', 'eg', 'ye', 'ja', 'th', 'kh', 'iq', 'ed', 'hv', 'ip', 'li', 'du', 'ua', 'iz', 'vm', 'ge', 'y', 'ks', 'ek', 'vi', 'lk', 'hm', 'nj', 'op', 'dy', 'gh', 'nl', 'ry', 'r', 'el', 'en', 'ck', 'u', 'at', 'go', 'q', 'ad', 'hi', 'ku', 'my', 'ba', 'o', 'oz', 'na', 'ou', 'ho', 'uv', 'nd', 'b', 'la', 'hu', 'lu', 'eb', 'ul', 'ot', 'sa', 'on', 'ep', 'ns', 'wr', 's', 'tt', 'al', 'ni', 'ay', 'ce', 'so', 'hs', 'if', 'sj', 'ev', 'ru', 'ef', 'f', 'od']\n",
            "268\n"
          ]
        }
      ]
    },
    {
      "cell_type": "code",
      "source": [
        "# Creating an index for every feature\n",
        "feature_to_idx = {feature:i for i, feature in enumerate(feature_set)}\n",
        "feature_to_idx"
      ],
      "metadata": {
        "id": "R8WgpoIux37c",
        "colab": {
          "base_uri": "https://localhost:8080/"
        },
        "outputId": "cf88d291-f2d9-4a33-edc9-82fa9f06cc90"
      },
      "execution_count": null,
      "outputs": [
        {
          "output_type": "execute_result",
          "data": {
            "text/plain": [
              "{'a': 1,\n",
              " 'aa': 125,\n",
              " 'ab': 43,\n",
              " 'ad': 229,\n",
              " 'af': 55,\n",
              " 'ag': 149,\n",
              " 'ah': 109,\n",
              " 'ai': 181,\n",
              " 'aj': 36,\n",
              " 'ak': 24,\n",
              " 'al': 255,\n",
              " 'am': 58,\n",
              " 'an': 113,\n",
              " 'ap': 25,\n",
              " 'aq': 135,\n",
              " 'ar': 157,\n",
              " 'as': 171,\n",
              " 'at': 226,\n",
              " 'av': 158,\n",
              " 'aw': 134,\n",
              " 'ax': 130,\n",
              " 'ay': 257,\n",
              " 'az': 100,\n",
              " 'b': 241,\n",
              " 'ba': 233,\n",
              " 'be': 79,\n",
              " 'bh': 62,\n",
              " 'bi': 15,\n",
              " 'bo': 95,\n",
              " 'bu': 150,\n",
              " 'by': 153,\n",
              " 'c': 168,\n",
              " 'ca': 14,\n",
              " 'ce': 258,\n",
              " 'ch': 96,\n",
              " 'ck': 224,\n",
              " 'cu': 19,\n",
              " 'cy': 4,\n",
              " 'd': 39,\n",
              " 'da': 28,\n",
              " 'db': 186,\n",
              " 'de': 97,\n",
              " 'dh': 77,\n",
              " 'di': 129,\n",
              " 'do': 187,\n",
              " 'dr': 88,\n",
              " 'du': 204,\n",
              " 'dy': 217,\n",
              " 'e': 65,\n",
              " 'eb': 245,\n",
              " 'ed': 200,\n",
              " 'ee': 115,\n",
              " 'ef': 265,\n",
              " 'eg': 194,\n",
              " 'eh': 41,\n",
              " 'ej': 118,\n",
              " 'ek': 211,\n",
              " 'el': 222,\n",
              " 'em': 59,\n",
              " 'en': 223,\n",
              " 'ep': 250,\n",
              " 'er': 81,\n",
              " 'es': 3,\n",
              " 'et': 174,\n",
              " 'ev': 263,\n",
              " 'ew': 44,\n",
              " 'ey': 178,\n",
              " 'ez': 70,\n",
              " 'f': 266,\n",
              " 'fa': 185,\n",
              " 'fe': 119,\n",
              " 'fi': 112,\n",
              " 'g': 156,\n",
              " 'ga': 122,\n",
              " 'ge': 208,\n",
              " 'gh': 218,\n",
              " 'gi': 6,\n",
              " 'go': 227,\n",
              " 'gu': 182,\n",
              " 'h': 154,\n",
              " 'ha': 108,\n",
              " 'hd': 132,\n",
              " 'he': 191,\n",
              " 'hi': 230,\n",
              " 'hl': 143,\n",
              " 'hm': 214,\n",
              " 'hn': 52,\n",
              " 'ho': 238,\n",
              " 'hs': 260,\n",
              " 'hu': 243,\n",
              " 'hv': 201,\n",
              " 'hy': 53,\n",
              " 'i': 105,\n",
              " 'ia': 90,\n",
              " 'ib': 102,\n",
              " 'ic': 144,\n",
              " 'id': 106,\n",
              " 'ie': 85,\n",
              " 'if': 261,\n",
              " 'ig': 75,\n",
              " 'ih': 74,\n",
              " 'ij': 20,\n",
              " 'ik': 124,\n",
              " 'il': 128,\n",
              " 'im': 67,\n",
              " 'in': 31,\n",
              " 'ip': 202,\n",
              " 'iq': 199,\n",
              " 'ir': 82,\n",
              " 'is': 50,\n",
              " 'it': 11,\n",
              " 'iv': 94,\n",
              " 'iy': 0,\n",
              " 'iz': 206,\n",
              " 'j': 141,\n",
              " 'ja': 196,\n",
              " 'ji': 92,\n",
              " 'jl': 87,\n",
              " 'jo': 165,\n",
              " 'ju': 162,\n",
              " 'k': 8,\n",
              " 'ka': 5,\n",
              " 'ke': 37,\n",
              " 'kh': 198,\n",
              " 'ki': 57,\n",
              " 'ks': 210,\n",
              " 'kt': 117,\n",
              " 'ku': 231,\n",
              " 'ky': 160,\n",
              " 'l': 131,\n",
              " 'la': 242,\n",
              " 'le': 163,\n",
              " 'li': 203,\n",
              " 'lk': 213,\n",
              " 'll': 93,\n",
              " 'lo': 147,\n",
              " 'lu': 244,\n",
              " 'ly': 179,\n",
              " 'm': 175,\n",
              " 'ma': 69,\n",
              " 'md': 84,\n",
              " 'me': 110,\n",
              " 'mi': 188,\n",
              " 'mo': 48,\n",
              " 'mt': 137,\n",
              " 'mu': 66,\n",
              " 'my': 232,\n",
              " 'n': 138,\n",
              " 'na': 236,\n",
              " 'nd': 240,\n",
              " 'ne': 136,\n",
              " 'ng': 47,\n",
              " 'ni': 256,\n",
              " 'nj': 215,\n",
              " 'nk': 23,\n",
              " 'nl': 219,\n",
              " 'nm': 71,\n",
              " 'nn': 29,\n",
              " 'no': 63,\n",
              " 'ns': 251,\n",
              " 'nt': 13,\n",
              " 'nu': 103,\n",
              " 'ny': 114,\n",
              " 'o': 234,\n",
              " 'ob': 9,\n",
              " 'od': 267,\n",
              " 'oh': 155,\n",
              " 'oj': 30,\n",
              " 'ok': 89,\n",
              " 'ol': 161,\n",
              " 'om': 38,\n",
              " 'on': 249,\n",
              " 'oo': 60,\n",
              " 'op': 216,\n",
              " 'or': 7,\n",
              " 'os': 86,\n",
              " 'ot': 247,\n",
              " 'ou': 237,\n",
              " 'oz': 235,\n",
              " 'p': 107,\n",
              " 'pa': 91,\n",
              " 'pe': 64,\n",
              " 'pi': 172,\n",
              " 'pp': 189,\n",
              " 'pu': 101,\n",
              " 'py': 12,\n",
              " 'q': 228,\n",
              " 'qu': 56,\n",
              " 'r': 221,\n",
              " 'ra': 173,\n",
              " 'rd': 148,\n",
              " 're': 170,\n",
              " 'rf': 140,\n",
              " 'rg': 42,\n",
              " 'ri': 133,\n",
              " 'rj': 167,\n",
              " 'rm': 151,\n",
              " 'rn': 111,\n",
              " 'ro': 164,\n",
              " 'rs': 76,\n",
              " 'rt': 46,\n",
              " 'ru': 264,\n",
              " 'rv': 40,\n",
              " 'ry': 220,\n",
              " 's': 253,\n",
              " 'sa': 248,\n",
              " 'se': 73,\n",
              " 'sh': 169,\n",
              " 'si': 21,\n",
              " 'sj': 262,\n",
              " 'sk': 192,\n",
              " 'sm': 139,\n",
              " 'so': 259,\n",
              " 'ss': 123,\n",
              " 'st': 98,\n",
              " 'su': 54,\n",
              " 'sy': 16,\n",
              " 't': 2,\n",
              " 'ta': 176,\n",
              " 'te': 22,\n",
              " 'th': 197,\n",
              " 'ti': 99,\n",
              " 'tn': 142,\n",
              " 'to': 68,\n",
              " 'ts': 17,\n",
              " 'tt': 254,\n",
              " 'tu': 159,\n",
              " 'ty': 104,\n",
              " 'u': 225,\n",
              " 'ua': 205,\n",
              " 'ub': 51,\n",
              " 'ud': 180,\n",
              " 'uf': 152,\n",
              " 'uj': 184,\n",
              " 'uk': 116,\n",
              " 'ul': 246,\n",
              " 'um': 18,\n",
              " 'un': 49,\n",
              " 'up': 35,\n",
              " 'ur': 61,\n",
              " 'us': 121,\n",
              " 'ut': 26,\n",
              " 'uu': 78,\n",
              " 'uv': 239,\n",
              " 'v': 145,\n",
              " 'va': 80,\n",
              " 've': 45,\n",
              " 'vi': 212,\n",
              " 'vm': 207,\n",
              " 'vr': 27,\n",
              " 'vy': 190,\n",
              " 'w': 33,\n",
              " 'wa': 183,\n",
              " 'wi': 83,\n",
              " 'wn': 146,\n",
              " 'wr': 252,\n",
              " 'x': 34,\n",
              " 'xi': 126,\n",
              " 'y': 209,\n",
              " 'ya': 166,\n",
              " 'ye': 195,\n",
              " 'yi': 193,\n",
              " 'yu': 127,\n",
              " 'z': 32,\n",
              " 'za': 10,\n",
              " 'zi': 120,\n",
              " 'zu': 72,\n",
              " 'zy': 177}"
            ]
          },
          "metadata": {},
          "execution_count": 29
        }
      ]
    },
    {
      "cell_type": "code",
      "source": [
        "size = len(data_df)"
      ],
      "metadata": {
        "id": "Y-3Xucxduqge"
      },
      "execution_count": null,
      "outputs": []
    },
    {
      "cell_type": "code",
      "source": [
        "data_df.head()"
      ],
      "metadata": {
        "colab": {
          "base_uri": "https://localhost:8080/",
          "height": 206
        },
        "id": "VzUTAeVN3jH4",
        "outputId": "97d8c351-3031-456d-8bee-05daf0ccbc70"
      },
      "execution_count": null,
      "outputs": [
        {
          "output_type": "execute_result",
          "data": {
            "text/plain": [
              "      name  gender\n",
              "0   bacchu       1\n",
              "1   tafsir       1\n",
              "2   suhail       1\n",
              "3   sunita       0\n",
              "4  kuldeep       1"
            ],
            "text/html": [
              "\n",
              "  <div id=\"df-9685a023-f53e-4545-b564-0aeebf4765d4\">\n",
              "    <div class=\"colab-df-container\">\n",
              "      <div>\n",
              "<style scoped>\n",
              "    .dataframe tbody tr th:only-of-type {\n",
              "        vertical-align: middle;\n",
              "    }\n",
              "\n",
              "    .dataframe tbody tr th {\n",
              "        vertical-align: top;\n",
              "    }\n",
              "\n",
              "    .dataframe thead th {\n",
              "        text-align: right;\n",
              "    }\n",
              "</style>\n",
              "<table border=\"1\" class=\"dataframe\">\n",
              "  <thead>\n",
              "    <tr style=\"text-align: right;\">\n",
              "      <th></th>\n",
              "      <th>name</th>\n",
              "      <th>gender</th>\n",
              "    </tr>\n",
              "  </thead>\n",
              "  <tbody>\n",
              "    <tr>\n",
              "      <th>0</th>\n",
              "      <td>bacchu</td>\n",
              "      <td>1</td>\n",
              "    </tr>\n",
              "    <tr>\n",
              "      <th>1</th>\n",
              "      <td>tafsir</td>\n",
              "      <td>1</td>\n",
              "    </tr>\n",
              "    <tr>\n",
              "      <th>2</th>\n",
              "      <td>suhail</td>\n",
              "      <td>1</td>\n",
              "    </tr>\n",
              "    <tr>\n",
              "      <th>3</th>\n",
              "      <td>sunita</td>\n",
              "      <td>0</td>\n",
              "    </tr>\n",
              "    <tr>\n",
              "      <th>4</th>\n",
              "      <td>kuldeep</td>\n",
              "      <td>1</td>\n",
              "    </tr>\n",
              "  </tbody>\n",
              "</table>\n",
              "</div>\n",
              "      <button class=\"colab-df-convert\" onclick=\"convertToInteractive('df-9685a023-f53e-4545-b564-0aeebf4765d4')\"\n",
              "              title=\"Convert this dataframe to an interactive table.\"\n",
              "              style=\"display:none;\">\n",
              "        \n",
              "  <svg xmlns=\"http://www.w3.org/2000/svg\" height=\"24px\"viewBox=\"0 0 24 24\"\n",
              "       width=\"24px\">\n",
              "    <path d=\"M0 0h24v24H0V0z\" fill=\"none\"/>\n",
              "    <path d=\"M18.56 5.44l.94 2.06.94-2.06 2.06-.94-2.06-.94-.94-2.06-.94 2.06-2.06.94zm-11 1L8.5 8.5l.94-2.06 2.06-.94-2.06-.94L8.5 2.5l-.94 2.06-2.06.94zm10 10l.94 2.06.94-2.06 2.06-.94-2.06-.94-.94-2.06-.94 2.06-2.06.94z\"/><path d=\"M17.41 7.96l-1.37-1.37c-.4-.4-.92-.59-1.43-.59-.52 0-1.04.2-1.43.59L10.3 9.45l-7.72 7.72c-.78.78-.78 2.05 0 2.83L4 21.41c.39.39.9.59 1.41.59.51 0 1.02-.2 1.41-.59l7.78-7.78 2.81-2.81c.8-.78.8-2.07 0-2.86zM5.41 20L4 18.59l7.72-7.72 1.47 1.35L5.41 20z\"/>\n",
              "  </svg>\n",
              "      </button>\n",
              "      \n",
              "  <style>\n",
              "    .colab-df-container {\n",
              "      display:flex;\n",
              "      flex-wrap:wrap;\n",
              "      gap: 12px;\n",
              "    }\n",
              "\n",
              "    .colab-df-convert {\n",
              "      background-color: #E8F0FE;\n",
              "      border: none;\n",
              "      border-radius: 50%;\n",
              "      cursor: pointer;\n",
              "      display: none;\n",
              "      fill: #1967D2;\n",
              "      height: 32px;\n",
              "      padding: 0 0 0 0;\n",
              "      width: 32px;\n",
              "    }\n",
              "\n",
              "    .colab-df-convert:hover {\n",
              "      background-color: #E2EBFA;\n",
              "      box-shadow: 0px 1px 2px rgba(60, 64, 67, 0.3), 0px 1px 3px 1px rgba(60, 64, 67, 0.15);\n",
              "      fill: #174EA6;\n",
              "    }\n",
              "\n",
              "    [theme=dark] .colab-df-convert {\n",
              "      background-color: #3B4455;\n",
              "      fill: #D2E3FC;\n",
              "    }\n",
              "\n",
              "    [theme=dark] .colab-df-convert:hover {\n",
              "      background-color: #434B5C;\n",
              "      box-shadow: 0px 1px 3px 1px rgba(0, 0, 0, 0.15);\n",
              "      filter: drop-shadow(0px 1px 2px rgba(0, 0, 0, 0.3));\n",
              "      fill: #FFFFFF;\n",
              "    }\n",
              "  </style>\n",
              "\n",
              "      <script>\n",
              "        const buttonEl =\n",
              "          document.querySelector('#df-9685a023-f53e-4545-b564-0aeebf4765d4 button.colab-df-convert');\n",
              "        buttonEl.style.display =\n",
              "          google.colab.kernel.accessAllowed ? 'block' : 'none';\n",
              "\n",
              "        async function convertToInteractive(key) {\n",
              "          const element = document.querySelector('#df-9685a023-f53e-4545-b564-0aeebf4765d4');\n",
              "          const dataTable =\n",
              "            await google.colab.kernel.invokeFunction('convertToInteractive',\n",
              "                                                     [key], {});\n",
              "          if (!dataTable) return;\n",
              "\n",
              "          const docLinkHtml = 'Like what you see? Visit the ' +\n",
              "            '<a target=\"_blank\" href=https://colab.research.google.com/notebooks/data_table.ipynb>data table notebook</a>'\n",
              "            + ' to learn more about interactive tables.';\n",
              "          element.innerHTML = '';\n",
              "          dataTable['output_type'] = 'display_data';\n",
              "          await google.colab.output.renderOutput(dataTable, element);\n",
              "          const docLink = document.createElement('div');\n",
              "          docLink.innerHTML = docLinkHtml;\n",
              "          element.appendChild(docLink);\n",
              "        }\n",
              "      </script>\n",
              "    </div>\n",
              "  </div>\n",
              "  "
            ]
          },
          "metadata": {},
          "execution_count": 31
        }
      ]
    },
    {
      "cell_type": "code",
      "source": [
        "features = np.zeros(269*size, dtype=int).reshape(size,269)\n",
        "print(features.shape)"
      ],
      "metadata": {
        "id": "SKc6m7r8oZH9",
        "colab": {
          "base_uri": "https://localhost:8080/"
        },
        "outputId": "27a29a98-fc4b-4ad0-870f-0f91abfcef49"
      },
      "execution_count": null,
      "outputs": [
        {
          "output_type": "stream",
          "name": "stdout",
          "text": [
            "(13536, 269)\n"
          ]
        }
      ]
    },
    {
      "cell_type": "code",
      "source": [
        "# Converting each name to the vector form, which will be given as input the model\n",
        "count = 0\n",
        "for name in data_df.name:\n",
        "    suffix = name[-2:]\n",
        "    if suffix in feature_to_idx:\n",
        "        features[count][feature_to_idx[suffix]] = 1\n",
        "    features[count][-1] = isVowel(name)\n",
        "    name = set(name)\n",
        "    for ch in name:\n",
        "        features[count][feature_to_idx[ch]] = 1\n",
        "    count += 1"
      ],
      "metadata": {
        "id": "aHiw1ETHrAr0"
      },
      "execution_count": null,
      "outputs": []
    },
    {
      "cell_type": "code",
      "source": [
        "print(data_df.iloc[0][0])\n",
        "print(features[0])"
      ],
      "metadata": {
        "id": "RVUU3SJzpRoF",
        "colab": {
          "base_uri": "https://localhost:8080/"
        },
        "outputId": "4abe7edd-067e-4c7e-963b-9fbd1030e25a"
      },
      "execution_count": null,
      "outputs": [
        {
          "output_type": "stream",
          "name": "stdout",
          "text": [
            "bacchu\n",
            "[0 1 0 0 0 0 0 0 0 0 0 0 0 0 0 0 0 0 0 0 0 0 0 0 0 0 0 0 0 0 0 0 0 0 0 0 0\n",
            " 0 0 0 0 0 0 0 0 0 0 0 0 0 0 0 0 0 0 0 0 0 0 0 0 0 0 0 0 0 0 0 0 0 0 0 0 0\n",
            " 0 0 0 0 0 0 0 0 0 0 0 0 0 0 0 0 0 0 0 0 0 0 0 0 0 0 0 0 0 0 0 0 0 0 0 0 0\n",
            " 0 0 0 0 0 0 0 0 0 0 0 0 0 0 0 0 0 0 0 0 0 0 0 0 0 0 0 0 0 0 0 0 0 0 0 0 0\n",
            " 0 0 0 0 0 0 1 0 0 0 0 0 0 0 0 0 0 0 0 0 1 0 0 0 0 0 0 0 0 0 0 0 0 0 0 0 0\n",
            " 0 0 0 0 0 0 0 0 0 0 0 0 0 0 0 0 0 0 0 0 0 0 0 0 0 0 0 0 0 0 0 0 0 0 0 0 0\n",
            " 0 0 0 1 0 0 0 0 0 0 0 0 0 0 0 0 0 0 0 1 0 1 0 0 0 0 0 0 0 0 0 0 0 0 0 0 0\n",
            " 0 0 0 0 0 0 0 0 0 1]\n"
          ]
        }
      ]
    },
    {
      "cell_type": "code",
      "source": [
        "label = data_df.gender.to_numpy()"
      ],
      "metadata": {
        "id": "yOKPwxEUq9RZ"
      },
      "execution_count": null,
      "outputs": []
    },
    {
      "cell_type": "markdown",
      "source": [
        "# Model training and comparison"
      ],
      "metadata": {
        "id": "m2sIGoa9jPy0"
      }
    },
    {
      "cell_type": "code",
      "source": [
        "from sklearn.model_selection import train_test_split\n",
        "from sklearn.metrics import confusion_matrix\n",
        "from sklearn.metrics import f1_score"
      ],
      "metadata": {
        "id": "-4Aax1zl35Xf"
      },
      "execution_count": null,
      "outputs": []
    },
    {
      "cell_type": "code",
      "source": [
        "X_train, X_test, y_train, y_test = train_test_split(features, label, test_size = 0.3, random_state = 0)"
      ],
      "metadata": {
        "id": "ny7Jn0ik4k_e"
      },
      "execution_count": null,
      "outputs": []
    },
    {
      "cell_type": "code",
      "source": [
        "X_train.shape"
      ],
      "metadata": {
        "colab": {
          "base_uri": "https://localhost:8080/"
        },
        "id": "jprBhpvg5u0b",
        "outputId": "c6b10efb-cbc7-4552-9622-290915a1f4e6"
      },
      "execution_count": null,
      "outputs": [
        {
          "output_type": "execute_result",
          "data": {
            "text/plain": [
              "(9475, 269)"
            ]
          },
          "metadata": {},
          "execution_count": 38
        }
      ]
    },
    {
      "cell_type": "code",
      "source": [
        "y_train[1]"
      ],
      "metadata": {
        "colab": {
          "base_uri": "https://localhost:8080/"
        },
        "id": "dCXmWWbJ5wuj",
        "outputId": "7be52cdf-a7ee-4a1b-817d-9af8866cfecd"
      },
      "execution_count": null,
      "outputs": [
        {
          "output_type": "execute_result",
          "data": {
            "text/plain": [
              "1"
            ]
          },
          "metadata": {},
          "execution_count": 39
        }
      ]
    },
    {
      "cell_type": "code",
      "source": [
        "# Logictic Regression\n",
        "from sklearn.linear_model import LogisticRegression"
      ],
      "metadata": {
        "id": "_ppzKPOd6E43"
      },
      "execution_count": null,
      "outputs": []
    },
    {
      "cell_type": "code",
      "source": [
        "clf = LogisticRegression(random_state=0, max_iter=10000).fit(X_train, y_train)"
      ],
      "metadata": {
        "id": "a_hxjKwp6awb"
      },
      "execution_count": null,
      "outputs": []
    },
    {
      "cell_type": "code",
      "source": [
        "pred_cl = clf.predict(X_test)"
      ],
      "metadata": {
        "id": "mWKnefDX6k2f"
      },
      "execution_count": null,
      "outputs": []
    },
    {
      "cell_type": "code",
      "source": [
        "clf.score(X_test, y_test)"
      ],
      "metadata": {
        "colab": {
          "base_uri": "https://localhost:8080/"
        },
        "id": "Z6Yz-UM_6uuf",
        "outputId": "201f2eca-cf2f-4ddd-d910-997c47b0e419"
      },
      "execution_count": null,
      "outputs": [
        {
          "output_type": "execute_result",
          "data": {
            "text/plain": [
              "0.8364934745136666"
            ]
          },
          "metadata": {},
          "execution_count": 43
        }
      ]
    },
    {
      "cell_type": "code",
      "source": [
        "conf_mat_lr = confusion_matrix(y_test, pred_cl)"
      ],
      "metadata": {
        "id": "2Z8O18Ni03SS"
      },
      "execution_count": null,
      "outputs": []
    },
    {
      "cell_type": "code",
      "source": [
        "import seaborn as sns\n",
        "import matplotlib.pyplot as plt\n",
        "fig = plt.figure(figsize=(7,5))\n",
        "sns.heatmap(conf_mat_lr, annot=True, fmt=\"\", yticklabels=['female', 'male'], xticklabels=['female', 'male'])\n",
        "fig.show()"
      ],
      "metadata": {
        "colab": {
          "base_uri": "https://localhost:8080/",
          "height": 320
        },
        "id": "4-FTGtIi1QZB",
        "outputId": "c7b36fdc-6554-4928-9abf-9441dc5ef3c4"
      },
      "execution_count": null,
      "outputs": [
        {
          "output_type": "display_data",
          "data": {
            "text/plain": [
              "<Figure size 504x360 with 2 Axes>"
            ],
            "image/png": "[encoded data removed]"
          },
          "metadata": {
            "needs_background": "light"
          }
        }
      ]
    },
    {
      "cell_type": "code",
      "source": [
        "f1_score(y_test, pred_cl)"
      ],
      "metadata": {
        "colab": {
          "base_uri": "https://localhost:8080/"
        },
        "id": "XBtGZDsSB6ij",
        "outputId": "c2746d44-688b-4c83-f08f-3d2b4f49755b"
      },
      "execution_count": null,
      "outputs": [
        {
          "output_type": "execute_result",
          "data": {
            "text/plain": [
              "0.8610878661087866"
            ]
          },
          "metadata": {},
          "execution_count": 46
        }
      ]
    },
    {
      "cell_type": "code",
      "source": [
        "# Support Vector Machine (SVM)\n",
        "from sklearn.svm import SVC\n",
        "\n",
        "clf = SVC().fit(X_train, y_train)\n",
        "svm_acc = clf.score(X_test, y_test)\n",
        "preds_svm = clf.predict(X_test)\n",
        "print(f\"Accuracy = {svm_acc*100} %\")"
      ],
      "metadata": {
        "id": "lV2db6oM7C4v",
        "colab": {
          "base_uri": "https://localhost:8080/"
        },
        "outputId": "b6951abf-9867-4a18-8fbd-7ce6c4f61dc6"
      },
      "execution_count": null,
      "outputs": [
        {
          "output_type": "stream",
          "name": "stdout",
          "text": [
            "Accuracy = 86.18566855454321 %\n"
          ]
        }
      ]
    },
    {
      "cell_type": "code",
      "source": [
        "conf_mat_svm = confusion_matrix(y_test, preds_svm)\n",
        "fig = plt.figure(figsize=(7,5))\n",
        "sns.heatmap(conf_mat_svm, annot=True, fmt=\"\", yticklabels=['female', 'male'], xticklabels=['female', 'male'])\n",
        "fig.show()"
      ],
      "metadata": {
        "id": "Lh6vFGXbyfFj",
        "colab": {
          "base_uri": "https://localhost:8080/",
          "height": 320
        },
        "outputId": "c7fad20b-3ad0-437b-fb78-2ffdd70b4c30"
      },
      "execution_count": null,
      "outputs": [
        {
          "output_type": "display_data",
          "data": {
            "text/plain": [
              "<Figure size 504x360 with 2 Axes>"
            ],
            "image/png": "[encoded data removed]"
          },
          "metadata": {
            "needs_background": "light"
          }
        }
      ]
    },
    {
      "cell_type": "code",
      "source": [
        "f1_score(y_test, preds_svm)"
      ],
      "metadata": {
        "id": "-PVNu72LCFrX",
        "outputId": "e01e025c-407a-46db-d970-7d4f938c1ec5",
        "colab": {
          "base_uri": "https://localhost:8080/"
        }
      },
      "execution_count": null,
      "outputs": [
        {
          "output_type": "execute_result",
          "data": {
            "text/plain": [
              "0.8807144375930257"
            ]
          },
          "metadata": {},
          "execution_count": 49
        }
      ]
    },
    {
      "cell_type": "code",
      "source": [
        "# Decision tree\n",
        "from sklearn.tree import DecisionTreeClassifier\n",
        "dt_clf= DecisionTreeClassifier(random_state=0)\n",
        "dt_clf = dt_clf.fit(X_train, y_train)\n",
        "\n",
        "dt_acc= dt_clf.score(X_test, y_test)\n",
        "\n",
        "y_pred = dt_clf.predict(X_test)\n",
        "print(f\"Accuracy = {dt_acc*100} %\")"
      ],
      "metadata": {
        "id": "PZoc3sg9Oqs8",
        "colab": {
          "base_uri": "https://localhost:8080/"
        },
        "outputId": "baf2e5e8-4d38-4fda-82c9-18c620f0a359"
      },
      "execution_count": null,
      "outputs": [
        {
          "output_type": "stream",
          "name": "stdout",
          "text": [
            "Accuracy = 85.10219157842896 %\n"
          ]
        }
      ]
    },
    {
      "cell_type": "code",
      "source": [
        "f1_score(y_test, y_pred)"
      ],
      "metadata": {
        "colab": {
          "base_uri": "https://localhost:8080/"
        },
        "id": "qJQS7dhXWuSL",
        "outputId": "c0a62e6d-bef0-4557-d845-83771697d59e"
      },
      "execution_count": null,
      "outputs": [
        {
          "output_type": "execute_result",
          "data": {
            "text/plain": [
              "0.8694150658320743"
            ]
          },
          "metadata": {},
          "execution_count": 51
        }
      ]
    },
    {
      "cell_type": "code",
      "source": [
        "conf_mat_dt = confusion_matrix(y_test, y_pred)\n",
        "fig = plt.figure(figsize=(7,5))\n",
        "sns.heatmap(conf_mat_dt, annot=True, fmt=\"\", yticklabels=['female', 'male'], xticklabels=['female', 'male'])\n",
        "fig.show()"
      ],
      "metadata": {
        "id": "qIeCpAO0TTVT",
        "colab": {
          "base_uri": "https://localhost:8080/",
          "height": 321
        },
        "outputId": "190c0964-ee6b-48ab-e5d3-b4ebf01d8875"
      },
      "execution_count": null,
      "outputs": [
        {
          "output_type": "display_data",
          "data": {
            "text/plain": [
              "<Figure size 504x360 with 2 Axes>"
            ],
            "image/png": "[encoded data removed]"
          },
          "metadata": {
            "needs_background": "light"
          }
        }
      ]
    },
    {
      "cell_type": "code",
      "source": [
        "# Artificial Neural Network\n",
        "from sklearn.neural_network import MLPClassifier\n",
        "\n",
        "nn_clf = MLPClassifier((100)).fit(X_train, y_train)\n",
        "nn_acc = nn_clf.score(X_test, y_test)\n",
        "nn_preds = nn_clf.predict(X_test)"
      ],
      "metadata": {
        "id": "qOUK87duKu7o",
        "colab": {
          "base_uri": "https://localhost:8080/"
        },
        "outputId": "297e79d6-292c-4586-b2bc-f92d509a1bee"
      },
      "execution_count": null,
      "outputs": [
        {
          "output_type": "stream",
          "name": "stderr",
          "text": [
            "/usr/local/lib/python3.7/dist-packages/sklearn/neural_network/_multilayer_perceptron.py:696: ConvergenceWarning: Stochastic Optimizer: Maximum iterations (200) reached and the optimization hasn't converged yet.\n",
            "  ConvergenceWarning,\n"
          ]
        }
      ]
    },
    {
      "cell_type": "code",
      "source": [
        "print(f\"Accuracy = {nn_acc*100} %\")"
      ],
      "metadata": {
        "colab": {
          "base_uri": "https://localhost:8080/"
        },
        "id": "IYQYvUKVSNJj",
        "outputId": "57d9f02f-554d-4509-f678-a916ec941630"
      },
      "execution_count": null,
      "outputs": [
        {
          "output_type": "stream",
          "name": "stdout",
          "text": [
            "Accuracy = 86.80128047278995 %\n"
          ]
        }
      ]
    },
    {
      "cell_type": "code",
      "source": [
        "conf_mat_nn = confusion_matrix(y_test, nn_preds)\n",
        "fig = plt.figure(figsize=(7,5))\n",
        "sns.heatmap(conf_mat_nn, annot=True, fmt=\"\", yticklabels=['female', 'male'], xticklabels=['female', 'male'])\n",
        "fig.show()"
      ],
      "metadata": {
        "colab": {
          "base_uri": "https://localhost:8080/",
          "height": 320
        },
        "id": "wQtz4v1hR6Ow",
        "outputId": "8d2d7067-5209-4b07-de0e-16efbda32c33"
      },
      "execution_count": null,
      "outputs": [
        {
          "output_type": "display_data",
          "data": {
            "text/plain": [
              "<Figure size 504x360 with 2 Axes>"
            ],
            "image/png": "[encoded data removed]"
          },
          "metadata": {
            "needs_background": "light"
          }
        }
      ]
    },
    {
      "cell_type": "code",
      "source": [
        "f1_score(y_test, nn_preds)"
      ],
      "metadata": {
        "id": "c1Ac-eCJSVPW",
        "colab": {
          "base_uri": "https://localhost:8080/"
        },
        "outputId": "50a4b4be-2389-44d2-bd88-a0f4230f2008"
      },
      "execution_count": null,
      "outputs": [
        {
          "output_type": "execute_result",
          "data": {
            "text/plain": [
              "0.8834275772074814"
            ]
          },
          "metadata": {},
          "execution_count": 57
        }
      ]
    },
    {
      "cell_type": "code",
      "source": [
        "def encode_name(name):\n",
        "  encoding = np.zeros(269, dtype=int).reshape(1,-1)\n",
        "  for ch in name:\n",
        "    encoding[0][feature_to_idx[ch]] = 1\n",
        "  suffix = name[-2:]\n",
        "  suffix_idx = feature_to_idx.get(suffix, None)\n",
        "  if suffix_idx:\n",
        "    encoding[0][feature_to_idx[suffix]] = 1\n",
        "  if isVowel(name):\n",
        "    encoding[0][-1] = 1\n",
        "  \n",
        "  return encoding"
      ],
      "metadata": {
        "id": "ZTxRZz5sLBc-"
      },
      "execution_count": null,
      "outputs": []
    },
    {
      "cell_type": "code",
      "source": [
        "def predict_gender(name, model):\n",
        "  name = filter(name)\n",
        "  encoding = encode_name(name)\n",
        "  predicted_gender = model.predict(encoding)\n",
        "  if predicted_gender:\n",
        "    return \"male\"\n",
        "  else: return \"female\""
      ],
      "metadata": {
        "id": "hhBmHnYsJnfW"
      },
      "execution_count": null,
      "outputs": []
    },
    {
      "cell_type": "code",
      "source": [
        "name = \"rishabh\"\n",
        "predict_gender(name, clf)"
      ],
      "metadata": {
        "colab": {
          "base_uri": "https://localhost:8080/",
          "height": 36
        },
        "id": "PmrQMLdnKOHO",
        "outputId": "e5e4b766-3f0d-4e8f-f1a7-df7bf02ee8f2"
      },
      "execution_count": null,
      "outputs": [
        {
          "output_type": "execute_result",
          "data": {
            "text/plain": [
              "'male'"
            ],
            "application/vnd.google.colaboratory.intrinsic+json": {
              "type": "string"
            }
          },
          "metadata": {},
          "execution_count": 101
        }
      ]
    }
  ]
}